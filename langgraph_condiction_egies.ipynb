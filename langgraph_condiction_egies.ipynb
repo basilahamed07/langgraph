{
 "cells": [
  {
   "cell_type": "markdown",
   "metadata": {},
   "source": [
    "# condiction ediges in langgraph"
   ]
  },
  {
   "cell_type": "code",
   "execution_count": 5,
   "metadata": {},
   "outputs": [
    {
     "name": "stderr",
     "output_type": "stream",
     "text": [
      "\n",
      "[notice] A new release of pip is available: 24.0 -> 25.0.1\n",
      "[notice] To update, run: python.exe -m pip install --upgrade pip\n"
     ]
    }
   ],
   "source": [
    "!pip install --quiet -U langgraph"
   ]
  },
  {
   "cell_type": "code",
   "execution_count": 6,
   "metadata": {},
   "outputs": [],
   "source": [
    "# Define a starting node. This node just returns a predefined string.\n",
    "def result_check(str):\n",
    "  return \"Hi! Well.. I have no idea... but i will give you the result...... \""
   ]
  },
  {
   "cell_type": "code",
   "execution_count": 11,
   "metadata": {},
   "outputs": [],
   "source": [
    "# condiction ediges in langgraph her i am set for three condiction \n",
    "\n",
    "def super_student(str):\n",
    "    return str +\" was your good in all subject\"\n",
    "def pass_student(str):\n",
    "    return str + \" was your ok in all subject\"\n",
    "def fail_student(str):\n",
    "    return str +\" was your bad in all subject\""
   ]
  },
  {
   "cell_type": "code",
   "execution_count": 8,
   "metadata": {},
   "outputs": [],
   "source": [
    "import random\n",
    "from typing import Literal\n",
    "\n",
    "\n",
    "#condction here\n",
    "def get_result(str)-> Literal[\"super\",\"pass\",\"fail\"]:\n",
    "    sample_value = random.random()\n",
    "    if sample_value > 0.8:\n",
    "        return \"super\"\n",
    "    elif sample_value > 0.5:\n",
    "        return \"pass\"\n",
    "    else:\n",
    "        return \"fail\"\n",
    "    \n"
   ]
  },
  {
   "cell_type": "code",
   "execution_count": 13,
   "metadata": {},
   "outputs": [],
   "source": [
    "#create the workflow for the graph ysing the langchan\n",
    "\n",
    "\n",
    "from langgraph.graph import Graph, START, END\n",
    "\n",
    "\n",
    "# Create a new Graph\n",
    "workflow = Graph()\n",
    "\n",
    "\n",
    "#add the what are the nodel are there\n",
    "\n",
    "workflow.add_node(\"result_check\",result_check)\n",
    "workflow.add_node(\"super\",super_student)\n",
    "workflow.add_node(\"pass\",pass_student)\n",
    "workflow.add_node(\"fail\",fail_student)\n",
    "\n",
    "\n",
    "#add the ediges with condiction\n",
    "\n",
    "workflow.add_edge(START,\"result_check\")\n",
    "\n",
    "workflow.add_conditional_edges(\"result_check\",get_result)\n",
    "workflow.add_edge(\"super\",END)\n",
    "workflow.add_edge(\"pass\",END)\n",
    "workflow.add_edge(\"fail\",END)\n",
    "\n",
    "\n",
    "#Compile the graph\n",
    "app = workflow.compile()"
   ]
  },
  {
   "cell_type": "code",
   "execution_count": 16,
   "metadata": {},
   "outputs": [
    {
     "data": {
      "image/png": "[encoded data removed]",
      "text/plain": [
       "<IPython.core.display.Image object>"
      ]
     },
     "metadata": {},
     "output_type": "display_data"
    }
   ],
   "source": [
    "# Visualize your graph\n",
    "from IPython.display import Image, display\n",
    "png = app.get_graph().draw_mermaid_png()\n",
    "display(Image(png))"
   ]
  },
  {
   "cell_type": "code",
   "execution_count": 33,
   "metadata": {},
   "outputs": [
    {
     "data": {
      "text/plain": [
       "'Hi! Well.. I have no idea... but i will give you the result......  was your ok in all subject'"
      ]
     },
     "execution_count": 33,
     "metadata": {},
     "output_type": "execute_result"
    }
   ],
   "source": [
    "app.invoke(\"How much is 2+2\")"
   ]
  }
 ],
 "metadata": {
  "kernelspec": {
   "display_name": "ai_env",
   "language": "python",
   "name": "python3"
  },
  "language_info": {
   "codemirror_mode": {
    "name": "ipython",
    "version": 3
   },
   "file_extension": ".py",
   "mimetype": "text/x-python",
   "name": "python",
   "nbconvert_exporter": "python",
   "pygments_lexer": "ipython3",
   "version": "3.12.4"
  }
 },
 "nbformat": 4,
 "nbformat_minor": 2
}
