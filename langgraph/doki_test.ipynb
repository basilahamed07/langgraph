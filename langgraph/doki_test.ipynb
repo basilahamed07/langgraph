{
 "cells": [
  {
   "cell_type": "code",
   "execution_count": 2,
   "metadata": {},
   "outputs": [
    {
     "name": "stdout",
     "output_type": "stream",
     "text": [
      "Collecting doki-theme-jupyter\n",
      "  Using cached doki_theme_jupyter-88.1.1.1.0-py2.py3-none-any.whl.metadata (6.6 kB)\n",
      "Requirement already satisfied: jupyter-core in d:\\changepond_technology\\langgraph\\ai_env\\lib\\site-packages (from doki-theme-jupyter) (5.7.2)\n",
      "Collecting notebook>=5.6.0 (from doki-theme-jupyter)\n",
      "  Using cached notebook-7.3.2-py3-none-any.whl.metadata (10 kB)\n",
      "Collecting python-Levenshtein>=0.12.2 (from doki-theme-jupyter)\n",
      "  Using cached python_Levenshtein-0.26.1-py3-none-any.whl.metadata (3.7 kB)\n",
      "Collecting lesscpy~=0.14.0 (from doki-theme-jupyter)\n",
      "  Using cached lesscpy-0.14.0-py2.py3-none-any.whl.metadata (6.0 kB)\n",
      "Collecting matplotlib~=3.3.4 (from doki-theme-jupyter)\n",
      "  Using cached matplotlib-3.3.4.tar.gz (37.9 MB)\n",
      "  Installing build dependencies: started\n",
      "  Installing build dependencies: finished with status 'done'\n",
      "  Getting requirements to build wheel: started\n",
      "  Getting requirements to build wheel: finished with status 'error'\n"
     ]
    },
    {
     "name": "stderr",
     "output_type": "stream",
     "text": [
      "  error: subprocess-exited-with-error\n",
      "  \n",
      "  × Getting requirements to build wheel did not run successfully.\n",
      "  │ exit code: 1\n",
      "  ╰─> [40 lines of output]\n",
      "      <string>:32: SetuptoolsDeprecationWarning: The test command is disabled and references to it are deprecated.\n",
      "      !!\n",
      "      \n",
      "              ********************************************************************************\n",
      "              Please remove any references to `setuptools.command.test` in all supported versions of the affected package.\n",
      "      \n",
      "              This deprecation is overdue, please update your project and remove deprecated\n",
      "              calls to avoid build errors in the future.\n",
      "              ********************************************************************************\n",
      "      \n",
      "      !!\n",
      "      Traceback (most recent call last):\n",
      "        File \"D:\\Changepond_technology\\Langgraph\\ai_env\\Lib\\site-packages\\pip\\_vendor\\pyproject_hooks\\_in_process\\_in_process.py\", line 353, in <module>\n",
      "          main()\n",
      "        File \"D:\\Changepond_technology\\Langgraph\\ai_env\\Lib\\site-packages\\pip\\_vendor\\pyproject_hooks\\_in_process\\_in_process.py\", line 335, in main\n",
      "          json_out['return_val'] = hook(**hook_input['kwargs'])\n",
      "                                   ^^^^^^^^^^^^^^^^^^^^^^^^^^^^\n",
      "        File \"D:\\Changepond_technology\\Langgraph\\ai_env\\Lib\\site-packages\\pip\\_vendor\\pyproject_hooks\\_in_process\\_in_process.py\", line 118, in get_requires_for_build_wheel\n",
      "          return hook(config_settings)\n",
      "                 ^^^^^^^^^^^^^^^^^^^^^\n",
      "        File \"C:\\Users\\basil\\AppData\\Local\\Temp\\pip-build-env-vwbtueor\\overlay\\Lib\\site-packages\\setuptools\\build_meta.py\", line 334, in get_requires_for_build_wheel\n",
      "          return self._get_build_requires(config_settings, requirements=[])\n",
      "                 ^^^^^^^^^^^^^^^^^^^^^^^^^^^^^^^^^^^^^^^^^^^^^^^^^^^^^^^^^^\n",
      "        File \"C:\\Users\\basil\\AppData\\Local\\Temp\\pip-build-env-vwbtueor\\overlay\\Lib\\site-packages\\setuptools\\build_meta.py\", line 304, in _get_build_requires\n",
      "          self.run_setup()\n",
      "        File \"C:\\Users\\basil\\AppData\\Local\\Temp\\pip-build-env-vwbtueor\\overlay\\Lib\\site-packages\\setuptools\\build_meta.py\", line 522, in run_setup\n",
      "          super().run_setup(setup_script=setup_script)\n",
      "        File \"C:\\Users\\basil\\AppData\\Local\\Temp\\pip-build-env-vwbtueor\\overlay\\Lib\\site-packages\\setuptools\\build_meta.py\", line 320, in run_setup\n",
      "          exec(code, locals())\n",
      "        File \"<string>\", line 52, in <module>\n",
      "        File \"C:\\Users\\basil\\AppData\\Local\\Temp\\pip-install-7kzf5jby\\matplotlib_51fa0194718e4084ad246c4fd46f6cd8\\versioneer.py\", line 1410, in get_version\n",
      "          return get_versions()[\"version\"]\n",
      "                 ^^^^^^^^^^^^^^\n",
      "        File \"C:\\Users\\basil\\AppData\\Local\\Temp\\pip-install-7kzf5jby\\matplotlib_51fa0194718e4084ad246c4fd46f6cd8\\versioneer.py\", line 1344, in get_versions\n",
      "          cfg = get_config_from_root(root)\n",
      "                ^^^^^^^^^^^^^^^^^^^^^^^^^^\n",
      "        File \"C:\\Users\\basil\\AppData\\Local\\Temp\\pip-install-7kzf5jby\\matplotlib_51fa0194718e4084ad246c4fd46f6cd8\\versioneer.py\", line 401, in get_config_from_root\n",
      "          parser = configparser.SafeConfigParser()\n",
      "                   ^^^^^^^^^^^^^^^^^^^^^^^^^^^^^\n",
      "      AttributeError: module 'configparser' has no attribute 'SafeConfigParser'. Did you mean: 'RawConfigParser'?\n",
      "      [end of output]\n",
      "  \n",
      "  note: This error originates from a subprocess, and is likely not a problem with pip.\n",
      "error: subprocess-exited-with-error\n",
      "\n",
      "× Getting requirements to build wheel did not run successfully.\n",
      "│ exit code: 1\n",
      "╰─> See above for output.\n",
      "\n",
      "note: This error originates from a subprocess, and is likely not a problem with pip.\n",
      "\n",
      "[notice] A new release of pip is available: 24.0 -> 25.0.1\n",
      "[notice] To update, run: python.exe -m pip install --upgrade pip\n"
     ]
    }
   ],
   "source": [
    "!pip install doki-theme-jupyter"
   ]
  }
 ],
 "metadata": {
  "kernelspec": {
   "display_name": "ai_env",
   "language": "python",
   "name": "python3"
  },
  "language_info": {
   "codemirror_mode": {
    "name": "ipython",
    "version": 3
   },
   "file_extension": ".py",
   "mimetype": "text/x-python",
   "name": "python",
   "nbconvert_exporter": "python",
   "pygments_lexer": "ipython3",
   "version": "3.12.4"
  }
 },
 "nbformat": 4,
 "nbformat_minor": 2
}
