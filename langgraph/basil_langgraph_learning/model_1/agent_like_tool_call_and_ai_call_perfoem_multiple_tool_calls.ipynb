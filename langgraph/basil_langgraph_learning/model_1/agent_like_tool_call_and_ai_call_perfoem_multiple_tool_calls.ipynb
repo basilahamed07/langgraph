{
 "cells": [
  {
   "cell_type": "markdown",
   "id": "e7875f60",
   "metadata": {},
   "source": [
    "### here i am gooing to use the set of tool like search , news search and much more \n",
    "### my example for this chainwas take the two llm and for each llm i am gooing to attach the 3 to 4 tool in that llm "
   ]
  },
  {
   "cell_type": "code",
   "execution_count": null,
   "id": "1134928b",
   "metadata": {},
   "outputs": [],
   "source": []
  },
  {
   "cell_type": "code",
   "execution_count": null,
   "id": "5eafba94",
   "metadata": {},
   "outputs": [
    {
     "data": {
      "text/plain": [
       "AIMessage(content=\"As an AI, I don't have feelings, but I'm here and ready to help! How can I assist you today? 😊\\n\", additional_kwargs={}, response_metadata={'token_usage': {'completion_tokens': 32, 'prompt_tokens': 14, 'total_tokens': 46, 'completion_time': 0.058181818, 'prompt_time': 0.001911996, 'queue_time': 0.29047002699999996, 'total_time': 0.060093814}, 'model_name': 'gemma2-9b-it', 'system_fingerprint': 'fp_10c08bf97d', 'finish_reason': 'stop', 'logprobs': None}, id='run-85eb8065-1ff7-4676-b0f7-ecd8511654c0-0', usage_metadata={'input_tokens': 14, 'output_tokens': 32, 'total_tokens': 46})"
      ]
     },
     "execution_count": 28,
     "metadata": {},
     "output_type": "execute_result"
    }
   ],
   "source": [
    "#befine the llm \n",
    "from langchain_core.messages import AIMessage, HumanMessage\n",
    "\n",
    "from langchain_groq import ChatGroq\n",
    "\n",
    "llm = ChatGroq(\n",
    "    model=\"gemma2-9b-it\",\n",
    "    temperature=0,\n",
    "    max_tokens=None,\n",
    "    timeout=60,\n",
    "    groq_api_key=\"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\",\n",
    "    # other params...\n",
    ")\n",
    "\n",
    "llm.invoke([HumanMessage(content=\"hello how are you!\")])\n"
   ]
  },
  {
   "cell_type": "code",
   "execution_count": 29,
   "id": "4f9fb254",
   "metadata": {},
   "outputs": [],
   "source": [
    "# before that we want to crete the new some of the tools\n",
    "import socket\n",
    "import requests\n",
    "def featch_ip() -> str:\n",
    "    \"\"\"Fetch the IP address of the meachine .\n",
    "    return:\n",
    "        return the ip of the meachine\n",
    "    \"\"\"\n",
    "    try:\n",
    "        ip_address = requests.get(\"https://api.ipify.org\").text\n",
    "        return ip_address\n",
    "    except requests.RequestException:\n",
    "        return \"Unable to fetch IP address\""
   ]
  },
  {
   "cell_type": "code",
   "execution_count": 30,
   "id": "5717a6a0",
   "metadata": {},
   "outputs": [],
   "source": [
    "llm_with_tools = llm.bind_tools([featch_ip])"
   ]
  },
  {
   "cell_type": "code",
   "execution_count": 31,
   "id": "a08a3080",
   "metadata": {},
   "outputs": [],
   "source": [
    "tool_call = llm_with_tools.invoke([HumanMessage(content=f\"can i get the ip of my meachine\", name=\"Lance\")])"
   ]
  },
  {
   "cell_type": "code",
   "execution_count": 34,
   "id": "16e448a9",
   "metadata": {},
   "outputs": [
    {
     "data": {
      "text/plain": [
       "AIMessage(content='', additional_kwargs={'tool_calls': [{'id': 'call_5xex', 'function': {'arguments': '{}', 'name': 'featch_ip'}, 'type': 'function'}]}, response_metadata={'token_usage': {'completion_tokens': 70, 'prompt_tokens': 933, 'total_tokens': 1003, 'completion_time': 0.127272727, 'prompt_time': 0.040584622, 'queue_time': 0.23821377699999996, 'total_time': 0.167857349}, 'model_name': 'gemma2-9b-it', 'system_fingerprint': 'fp_10c08bf97d', 'finish_reason': 'tool_calls', 'logprobs': None}, id='run-c9473863-fe48-4d1d-8ed3-9294529b4bf3-0', tool_calls=[{'name': 'featch_ip', 'args': {}, 'id': 'call_5xex', 'type': 'tool_call'}], usage_metadata={'input_tokens': 933, 'output_tokens': 70, 'total_tokens': 1003})"
      ]
     },
     "execution_count": 34,
     "metadata": {},
     "output_type": "execute_result"
    }
   ],
   "source": [
    "tool_call"
   ]
  },
  {
   "cell_type": "code",
   "execution_count": 12,
   "id": "da98338e",
   "metadata": {},
   "outputs": [
    {
     "data": {
      "text/plain": [
       "[{'name': 'featch_ip', 'args': {}, 'id': 'call_qmhg', 'type': 'tool_call'}]"
      ]
     },
     "execution_count": 12,
     "metadata": {},
     "output_type": "execute_result"
    }
   ],
   "source": [
    "tool_call.tool_calls"
   ]
  },
  {
   "cell_type": "code",
   "execution_count": 15,
   "id": "f9b249e7",
   "metadata": {},
   "outputs": [],
   "source": [
    "# define the state \n",
    "\n",
    "from typing import Annotated\n",
    "from langgraph.graph.message import add_messages\n",
    "from typing_extensions import TypedDict\n",
    "from langchain_core.messages import AnyMessage\n",
    "\n",
    "\n",
    "class Store_message(TypedDict):\n",
    "    \"\"\"State to store messages.\"\"\"\n",
    "\n",
    "    messages: Annotated[list[AnyMessage], add_messages]\n",
    "    name: str | None"
   ]
  },
  {
   "cell_type": "code",
   "execution_count": 20,
   "id": "1548c9a2",
   "metadata": {},
   "outputs": [],
   "source": [
    "# define the node and ediges\n",
    "\n",
    "\n",
    "from IPython.display import Image, display\n",
    "from langgraph.graph import StateGraph, START, END\n",
    "    \n",
    "def greeting_node(state: Store_message):\n",
    "    print(\"______greeting_node______\")\n",
    "    print(\"hello\")\n",
    "    return {\"messages\": state[\"messages\"]}\n",
    "\n",
    "def llm_with_tool_calling_node(state: Store_message):\n",
    "    print(\"______llm_with_tool_calling_node______\")\n",
    "    print(\"calling the tool\")\n",
    "    # call the llm with the tool\n",
    "    tool_call = llm_with_tools.invoke(state[\"messages\"])\n",
    "    # add the tool call to the state\n",
    "    return {\"messages\": tool_call}\n",
    "\n",
    "\n",
    "#add nodes\n",
    "\n",
    "graph = StateGraph(Store_message)\n",
    "graph.add_node(\"greeting\",greeting_node)\n",
    "graph.add_node(\"tool_calling\",llm_with_tool_calling_node)\n",
    "\n",
    "#add simple ediges\n",
    "\n",
    "graph.add_edge(START, \"greeting\")\n",
    "graph.add_edge(\"greeting\",\"tool_calling\")\n",
    "graph.add_edge(\"tool_calling\",END)\n",
    "build = graph.compile()\n"
   ]
  },
  {
   "cell_type": "code",
   "execution_count": 18,
   "id": "9e115193",
   "metadata": {},
   "outputs": [
    {
     "data": {
      "image/png": "[encoded data removed]",
      "text/plain": [
       "<langgraph.graph.state.CompiledStateGraph object at 0x0000021419AA9C40>"
      ]
     },
     "execution_count": 18,
     "metadata": {},
     "output_type": "execute_result"
    }
   ],
   "source": [
    "# from langsmith import Client\n",
    "# client = Client(api_key=\"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\")\n",
    "# prompt = client.pull_prompt(\"rlm/rag-document-relevance\", include_model=True)\n",
    "\n",
    "build\n",
    "\n",
    "\n"
   ]
  },
  {
   "cell_type": "code",
   "execution_count": 22,
   "id": "ca870235",
   "metadata": {},
   "outputs": [
    {
     "name": "stdout",
     "output_type": "stream",
     "text": [
      "______greeting_node______\n",
      "hello\n",
      "______llm_with_tool_calling_node______\n",
      "calling the tool\n",
      "================================\u001b[1m Human Message \u001b[0m=================================\n",
      "\n",
      "give the ip of my meachine\n",
      "==================================\u001b[1m Ai Message \u001b[0m==================================\n",
      "Tool Calls:\n",
      "  featch_ip (call_dqw3)\n",
      " Call ID: call_dqw3\n",
      "  Args:\n"
     ]
    }
   ],
   "source": [
    "messages = build.invoke({\"messages\": HumanMessage(content=\"give the ip of my meachine\")})\n",
    "for m in messages['messages']:\n",
    "    m.pretty_print()"
   ]
  },
  {
   "cell_type": "code",
   "execution_count": 11,
   "id": "3e84f768",
   "metadata": {},
   "outputs": [
    {
     "data": {
      "text/plain": [
       "StructuredPrompt(input_variables=['input'], input_types={}, partial_variables={}, metadata={'lc_hub_owner': 'rlm', 'lc_hub_repo': 'rag-document-relevance', 'lc_hub_commit_hash': '123af323ca4720fc195f1d6966ba25fa67348c351972be2088faf2b22f2de056'}, messages=[SystemMessagePromptTemplate(prompt=PromptTemplate(input_variables=[], input_types={}, partial_variables={}, template='You are a grader assessing relevance of a retrieved document to a user question.\\n\\nIf the document contains keyword(s) or semantic meaning related to the user question, grade it as relevant. \\\\n\\n\\nIt does not need to be a stringent test. The goal is to filter out erroneous retrievals. \\\\n\\n\\nGive a binary score 1 or 0 score, where 1 means that the document is relevant to the question.', template_format='mustache'), additional_kwargs={}), HumanMessagePromptTemplate(prompt=PromptTemplate(input_variables=['input'], input_types={}, partial_variables={}, template='Retrieved documents: {{input.documents}} \\n\\nUser question: {{input.question}}', template_format='mustache'), additional_kwargs={})], schema_={'type': 'object', 'title': 'Score_criteria', 'required': ['Score', 'Explaination'], 'properties': {'Score': {'type': 'integer', 'description': 'Are the retrieved documents relevant to the user question?'}, 'Explaination': {'type': 'string', 'description': 'Explain your reasoning for the score:'}}, 'description': 'Score the retrieved documents for whether they are relevant to the user question.'}, structured_output_kwargs={})"
      ]
     },
     "execution_count": 11,
     "metadata": {},
     "output_type": "execute_result"
    }
   ],
   "source": [
    "prompt"
   ]
  },
  {
   "cell_type": "markdown",
   "id": "2e6c07dc",
   "metadata": {},
   "source": [
    "## create the chain using the tools with two models one for normal user and another one for basil user"
   ]
  },
  {
   "cell_type": "code",
   "execution_count": null,
   "id": "ac36827d",
   "metadata": {},
   "outputs": [],
   "source": [
    "# define the state \n",
    "\n",
    "\n"
   ]
  },
  {
   "cell_type": "code",
   "execution_count": 1,
   "id": "ab99ced1",
   "metadata": {},
   "outputs": [],
   "source": [
    "# define the llm and llm2\n",
    "\n",
    "from langchain_core.messages import AIMessage, HumanMessage\n",
    "\n",
    "from langchain_groq import ChatGroq\n",
    "# this llm1 is only for basil\n",
    "llm1 = ChatGroq(\n",
    "    model=\"qwen-qwq-32b\",\n",
    "    temperature=0,\n",
    "    max_tokens=None,\n",
    "    timeout=None,\n",
    "    groq_api_key=\"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\",\n",
    "    # other params...\n",
    ")\n",
    "\n",
    "#this llm for everyone\n",
    "llm2 = ChatGroq(\n",
    "    model=\"qwen-qwq-32b\",\n",
    "    temperature=0,\n",
    "    max_tokens=None,\n",
    "    timeout=60,\n",
    "    groq_api_key=\"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\",\n",
    "    # other params...\n",
    ")"
   ]
  },
  {
   "cell_type": "code",
   "execution_count": 66,
   "id": "6a0c0df6",
   "metadata": {},
   "outputs": [
    {
     "data": {
      "text/plain": [
       "AIMessage(content='<think>\\n\\n</think>\\n\\nHello! How can I assist you today? 😊', additional_kwargs={}, response_metadata={'token_usage': {'completion_tokens': 16, 'prompt_tokens': 6, 'total_tokens': 22, 'completion_time': 0.058181818, 'prompt_time': 0.003643054, 'queue_time': 0.103823166, 'total_time': 0.061824872}, 'model_name': 'deepseek-r1-distill-llama-70b', 'system_fingerprint': 'fp_454c494f52', 'finish_reason': 'stop', 'logprobs': None}, id='run-46757866-d89f-4aa5-961c-a25a30526709-0', usage_metadata={'input_tokens': 6, 'output_tokens': 16, 'total_tokens': 22})"
      ]
     },
     "execution_count": 66,
     "metadata": {},
     "output_type": "execute_result"
    }
   ],
   "source": [
    "llm1.invoke(\"hello\")"
   ]
  },
  {
   "cell_type": "code",
   "execution_count": 41,
   "id": "8ff939f1",
   "metadata": {},
   "outputs": [
    {
     "data": {
      "text/plain": [
       "AIMessage(content='<think>\\n\\n</think>\\n\\nHello! How can I assist you today? 😊', additional_kwargs={}, response_metadata={'token_usage': {'completion_tokens': 16, 'prompt_tokens': 6, 'total_tokens': 22, 'completion_time': 0.058181818, 'prompt_time': 0.003478417, 'queue_time': 0.051595749, 'total_time': 0.061660235}, 'model_name': 'deepseek-r1-distill-llama-70b', 'system_fingerprint': 'fp_454c494f52', 'finish_reason': 'stop', 'logprobs': None}, id='run-92e31326-9eec-478d-8487-90e9945a92a7-0', usage_metadata={'input_tokens': 6, 'output_tokens': 16, 'total_tokens': 22})"
      ]
     },
     "execution_count": 41,
     "metadata": {},
     "output_type": "execute_result"
    }
   ],
   "source": [
    "llm2.invoke(\"hello\")"
   ]
  },
  {
   "cell_type": "code",
   "execution_count": 2,
   "id": "8c2b7a0a",
   "metadata": {},
   "outputs": [],
   "source": [
    "# create the bunch of tool for llm\n",
    "\n",
    "\n",
    "import socket\n",
    "# featch the ip address\n",
    "from typing import List\n",
    "import requests\n",
    "\n",
    "#only for basil \n",
    "def featch_ip(ip:str) -> str:\n",
    "    \"\"\"it only featch the ip address from the meachine to get the public ip\"\"\"\n",
    "    try:\n",
    "        ip_address = requests.get(\"https://api.ipify.org\").text\n",
    "        return ip_address\n",
    "    except requests.RequestException:\n",
    "        return \"Unable to fetch IP address\"\n",
    "\n",
    "\n",
    "#only for basil to get the what are the port are the localmeachine \n",
    "\n",
    "# def scanning_port(port_start:int,port_end:int)-> str:\n",
    "#     \"\"\"get the port details from the local meachine\n",
    "#     args:\n",
    "#     prot_start: staring number of port eg:4\n",
    "#     prot_end: ending number of port eg:90\n",
    "#     \"\"\"\n",
    "#     t_IP = gethostbyname(\"127.0.0.1\")\n",
    "#     values = []\n",
    "#     for i in range(50, 500):\n",
    "#       s = socket(port_start, port_end)\n",
    "      \n",
    "#       conn = s.connect_ex((t_IP, i))\n",
    "#       if(conn == 0) :\n",
    "#          print ('Port %d: OPEN' % (i,))\n",
    "#          values+=[f\"Port: OPEN' % {(i,)}\"]\n",
    "#       s.close()\n",
    "#     return values\n",
    "\n",
    "def scanning_port(port_start: int, port_end: int) -> List[str]:\n",
    "    \"\"\"\n",
    "    Scans a range of ports on localhost to check if they are open.\n",
    "\n",
    "    Args:\n",
    "        port_start (int): Starting port number.\n",
    "        port_end (int): Ending port number.\n",
    "\n",
    "    Returns:\n",
    "        List[str]: List of open ports with messages.\n",
    "    \"\"\"\n",
    "    t_IP = socket.gethostbyname(\"127.0.0.1\")\n",
    "    open_ports = []\n",
    "\n",
    "    for port in range(port_start, port_end + 1):  # range should include end\n",
    "        s = socket.socket(socket.AF_INET, socket.SOCK_STREAM)\n",
    "        # s.settimeout(0.5)  # Add timeout to avoid hanging\n",
    "        conn = s.connect_ex((t_IP, port))\n",
    "        if conn == 0:\n",
    "            msg = f\"Port {port}: OPEN\"\n",
    "            print(msg)\n",
    "            open_ports.append(msg)\n",
    "        s.close()\n",
    "\n",
    "    return open_ports\n",
    "\n",
    "\n",
    "#for other user function\n",
    "#that only for addiciton and subraction\n",
    "\n",
    "def addiction(a:int, b:int)-> int:\n",
    "    \"\"\"this function was perform the addicion and give the output in int\n",
    "    args:\n",
    "    a: number eg:44\n",
    "    b: number eg:3\n",
    "    \"\"\"\n",
    "    return a + b\n",
    "\n",
    "def subraction(a:int, b:int)-> int:\n",
    "    \"\"\"this function was perform the subraction and give the output in int\n",
    "    args:\n",
    "    a: number eg:44\n",
    "    b: number eg:3\n",
    "    \"\"\"\n",
    "    return a - b\n"
   ]
  },
  {
   "cell_type": "code",
   "execution_count": 3,
   "id": "96d26853",
   "metadata": {},
   "outputs": [],
   "source": [
    "#binindg the along with two llms\n",
    "\n",
    "llm1 = llm1.bind_tools([featch_ip,scanning_port])\n",
    "llm2 = llm2.bind_tools([addiction,subraction])"
   ]
  },
  {
   "cell_type": "code",
   "execution_count": 15,
   "id": "b4e0bf64",
   "metadata": {},
   "outputs": [
    {
     "data": {
      "text/plain": [
       "AIMessage(content='', additional_kwargs={'tool_calls': [{'id': 'call_tb7e', 'function': {'arguments': '{\"port_start\":80,\"port_end\":81}', 'name': 'scanning_port'}, 'type': 'function'}]}, response_metadata={'token_usage': {'completion_tokens': 94, 'prompt_tokens': 1133, 'total_tokens': 1227, 'completion_time': 0.170909091, 'prompt_time': 0.064568088, 'queue_time': 0.23521980099999998, 'total_time': 0.235477179}, 'model_name': 'gemma2-9b-it', 'system_fingerprint': 'fp_10c08bf97d', 'finish_reason': 'tool_calls', 'logprobs': None}, id='run-493f5445-ce59-4608-ad6b-b5e2984e8035-0', tool_calls=[{'name': 'scanning_port', 'args': {'port_start': 80, 'port_end': 81}, 'id': 'call_tb7e', 'type': 'tool_call'}], usage_metadata={'input_tokens': 1133, 'output_tokens': 94, 'total_tokens': 1227})"
      ]
     },
     "execution_count": 15,
     "metadata": {},
     "output_type": "execute_result"
    }
   ],
   "source": [
    "answer = llm1.invoke([HumanMessage(content=\"what are the port are open in my meachine from 80 to 81 port!\")])\n",
    "answer"
   ]
  },
  {
   "cell_type": "code",
   "execution_count": 70,
   "id": "a77c3eb8",
   "metadata": {},
   "outputs": [
    {
     "data": {
      "text/plain": [
       "AIMessage(content='', additional_kwargs={'tool_calls': [{'id': 'call_r4c6', 'function': {'arguments': '{\"ip\":\"192.193.33.44\"}', 'name': 'featch_ip'}, 'type': 'function'}]}, response_metadata={'token_usage': {'completion_tokens': 113, 'prompt_tokens': 223, 'total_tokens': 336, 'completion_time': 0.410909091, 'prompt_time': 0.053710801, 'queue_time': 1.352470433, 'total_time': 0.464619892}, 'model_name': 'deepseek-r1-distill-llama-70b', 'system_fingerprint': 'fp_454c494f52', 'finish_reason': 'tool_calls', 'logprobs': None}, id='run-2f8d8645-8aa2-4e85-991b-cb71bd22be51-0', tool_calls=[{'name': 'featch_ip', 'args': {'ip': '192.193.33.44'}, 'id': 'call_r4c6', 'type': 'tool_call'}], usage_metadata={'input_tokens': 223, 'output_tokens': 113, 'total_tokens': 336})"
      ]
     },
     "execution_count": 70,
     "metadata": {},
     "output_type": "execute_result"
    }
   ],
   "source": [
    "answer = llm1.invoke([HumanMessage(content=\"give my meachine ip address of 192.193.33.44\")])\n",
    "answer"
   ]
  },
  {
   "cell_type": "code",
   "execution_count": 63,
   "id": "28df6c67",
   "metadata": {},
   "outputs": [
    {
     "data": {
      "text/plain": [
       "AIMessage(content='', additional_kwargs={'tool_calls': [{'id': 'call_8n44', 'function': {'arguments': '{\"a\": 44, \"b\": 3}', 'name': 'addiction'}, 'type': 'function'}]}, response_metadata={'token_usage': {'completion_tokens': 277, 'prompt_tokens': 219, 'total_tokens': 496, 'completion_time': 1.007272727, 'prompt_time': 0.083227291, 'queue_time': 0.214741972, 'total_time': 1.090500018}, 'model_name': 'deepseek-r1-distill-llama-70b', 'system_fingerprint': 'fp_454c494f52', 'finish_reason': 'tool_calls', 'logprobs': None}, id='run-6ae08c0c-5532-4f68-a701-6a04b78c3527-0', tool_calls=[{'name': 'addiction', 'args': {'a': 44, 'b': 3}, 'id': 'call_8n44', 'type': 'tool_call'}], usage_metadata={'input_tokens': 219, 'output_tokens': 277, 'total_tokens': 496})"
      ]
     },
     "execution_count": 63,
     "metadata": {},
     "output_type": "execute_result"
    }
   ],
   "source": [
    "answer = llm2.invoke([HumanMessage(content=\"hello\")])\n",
    "answer"
   ]
  },
  {
   "cell_type": "code",
   "execution_count": 64,
   "id": "6c3b4d4d",
   "metadata": {},
   "outputs": [
    {
     "data": {
      "text/plain": [
       "AIMessage(content=\"Hello! It seems like you might want to perform an addition or subtraction. Could you please provide the numbers you'd like to work with?\", additional_kwargs={}, response_metadata={'token_usage': {'completion_tokens': 98, 'prompt_tokens': 219, 'total_tokens': 317, 'completion_time': 0.356363636, 'prompt_time': 0.049925099, 'queue_time': 0.12893226, 'total_time': 0.406288735}, 'model_name': 'deepseek-r1-distill-llama-70b', 'system_fingerprint': 'fp_454c494f52', 'finish_reason': 'stop', 'logprobs': None}, id='run-62417364-440f-4ca1-b9a7-cced8568a403-0', usage_metadata={'input_tokens': 219, 'output_tokens': 98, 'total_tokens': 317})"
      ]
     },
     "execution_count": 64,
     "metadata": {},
     "output_type": "execute_result"
    }
   ],
   "source": [
    "answer = llm2.invoke([HumanMessage(content=\"hello\")])\n",
    "answer"
   ]
  },
  {
   "cell_type": "code",
   "execution_count": 6,
   "id": "25670f53",
   "metadata": {},
   "outputs": [],
   "source": [
    "def tools_condition_for_llm1(state: Multi_llm_state) -> Literal[\"tools1\",\"__end__\"]:\n",
    "    # some logic to decide if tools1 should run\n",
    "    # e.g. if a tool call is needed\n",
    "    if \"tool_call\" in str(state[\"messages\"][-1]):\n",
    "        return \"tools1\"\n",
    "    return \"__end__\"\n",
    "\n",
    "def tools_condition_for_llm2(state: Multi_llm_state) -> Literal[\"tools2\",\"__end__\"]:\n",
    "    if \"tool_call\" in str(state[\"messages\"][-1]):\n",
    "        return \"tools2\"\n",
    "    return \"__end__\""
   ]
  },
  {
   "cell_type": "code",
   "execution_count": 5,
   "id": "2883c7b1",
   "metadata": {},
   "outputs": [],
   "source": [
    "from typing import Annotated\n",
    "from langgraph.graph.message import add_messages\n",
    "from typing_extensions import TypedDict\n",
    "from langchain_core.messages import AnyMessage\n",
    "from typing import Literal  \n",
    "from langchain_core.messages import AIMessage, HumanMessage, SystemMessage\n",
    "\n",
    "sys_msg = SystemMessage(content=\"You are a helpful assistant tasked with using search and performing arithmetic on a set of inputs. and also perfoem the tool exicuction \")\n",
    "\n",
    "\n",
    "class Multi_llm_state(TypedDict):\n",
    "    \"\"\"State to store messages.\"\"\"\n",
    "\n",
    "    messages: Annotated[list[AnyMessage], add_messages]\n",
    "    name: str | None\n"
   ]
  },
  {
   "cell_type": "code",
   "execution_count": 7,
   "id": "4fea53a7",
   "metadata": {},
   "outputs": [],
   "source": [
    "# define the node and condictionss\n",
    "\n",
    "\n",
    "from IPython.display import Image, display\n",
    "from langgraph.graph import StateGraph, START, END\n",
    "from langgraph.prebuilt import ToolNode\n",
    "from langgraph.prebuilt import tools_condition\n",
    "\n",
    "# condiiction ediges\n",
    "\n",
    "def routing_based_on_names(state:Multi_llm_state)-> Literal[\"llm1\",\"llm2\"]:\n",
    "    if state[\"name\"] == \"basil\":\n",
    "        return \"llm1\"\n",
    "    return \"llm2\"\n",
    "\n",
    "\n",
    "#greeding card:\n",
    "\n",
    "def greeting(state:Multi_llm_state):\n",
    "    print(\"_____greeting_______\")\n",
    "    print(f\"Hello {state[\"name\"]}\")\n",
    "    return {\"messages\":state[\"messages\"], \"name\":state[\"name\"]}\n",
    "graph = StateGraph(Multi_llm_state)\n",
    "#define the nodes\n",
    "\n",
    "\n",
    "# node for llm1 and llm2\n",
    "\n",
    "def llm_1(state:Multi_llm_state):\n",
    "    print(\"------llm1 for basil------\")\n",
    "    return {\"messages\": llm1.invoke(state[\"messages\"])}\n",
    "\n",
    "def llm_2(state:Multi_llm_state):\n",
    "    print(\"------llm2 for other member------\")\n",
    "    return {\"messages\": llm2.invoke(state[\"messages\"])}\n",
    "\n",
    "\n",
    "#define the nodes\n",
    "graph.add_node(\"greeting\",greeting)\n",
    "graph.add_node(\"llm1\",llm_1)\n",
    "graph.add_node(\"llm2\",llm_2)\n",
    "graph.add_node(\"tools1\",ToolNode([featch_ip,scanning_port]))\n",
    "graph.add_node(\"tools2\",ToolNode([addiction,subraction]))\n",
    "\n",
    "\n",
    "#add the ediges and condiction ediges\n",
    "\n",
    "graph.add_edge(START,\"greeting\")\n",
    "graph.add_conditional_edges(\"greeting\",routing_based_on_names)\n",
    "graph.add_conditional_edges(\"llm1\",tools_condition_for_llm1)\n",
    "graph.add_conditional_edges(\"llm2\",tools_condition_for_llm2)\n",
    "graph.add_edge(\"tools1\", \"llm1\")\n",
    "graph.add_edge(\"tools2\", \"llm2\")\n",
    "\n",
    "build = graph.compile()\n"
   ]
  },
  {
   "cell_type": "code",
   "execution_count": 9,
   "id": "c1672684",
   "metadata": {},
   "outputs": [
    {
     "data": {
      "image/png": "[encoded data removed]",
      "text/plain": [
       "<langgraph.graph.state.CompiledStateGraph object at 0x000002C51723EA20>"
      ]
     },
     "execution_count": 9,
     "metadata": {},
     "output_type": "execute_result"
    }
   ],
   "source": [
    "build"
   ]
  },
  {
   "cell_type": "code",
   "execution_count": 10,
   "id": "bcdfabda",
   "metadata": {},
   "outputs": [
    {
     "name": "stdout",
     "output_type": "stream",
     "text": [
      "_____greeting_______\n",
      "Hello basil\n",
      "------llm1 for basil------\n",
      "Port 80: OPEN\n",
      "------llm1 for basil------\n",
      "================================\u001b[1m System Message \u001b[0m================================\n",
      "\n",
      "You are a helpful assistant tasked with using search and performing arithmetic on a set of inputs. and also perfoem the tool exicuction \n",
      "================================\u001b[1m Human Message \u001b[0m=================================\n",
      "\n",
      "give me an port scane for my meachine and port of 80 to port of 81\n",
      "==================================\u001b[1m Ai Message \u001b[0m==================================\n",
      "Tool Calls:\n",
      "  scanning_port (call_v836)\n",
      " Call ID: call_v836\n",
      "  Args:\n",
      "    port_start: 80\n",
      "    port_end: 81\n",
      "=================================\u001b[1m Tool Message \u001b[0m=================================\n",
      "Name: scanning_port\n",
      "\n",
      "[\"Port 80: OPEN\"]\n",
      "==================================\u001b[1m Ai Message \u001b[0m==================================\n",
      "\n",
      "The port scan results for your machine show:  \n",
      "- **Port 80: OPEN**  \n",
      "\n",
      "Port 81 does not appear to be open based on the scan. Let me know if you'd like to check additional ports or need further details!\n"
     ]
    }
   ],
   "source": [
    "messages = build.invoke({\"messages\": [sys_msg, HumanMessage(content=\"give me an port scane for my meachine and port of 80 to port of 81\")],\"name\":\"basil\"})\n",
    "for m in messages['messages']:\n",
    "    \n",
    "    m.pretty_print()"
   ]
  },
  {
   "cell_type": "code",
   "execution_count": 8,
   "id": "a43087ca",
   "metadata": {},
   "outputs": [
    {
     "name": "stdout",
     "output_type": "stream",
     "text": [
      "_____greeting_______\n",
      "Hello suresh\n",
      "------llm2 for other member------\n",
      "================================\u001b[1m Human Message \u001b[0m=================================\n",
      "\n",
      "whata the port are open from 80 to 85 in my meachine\n",
      "==================================\u001b[1m Ai Message \u001b[0m==================================\n",
      "\n",
      "I don't have access to your machine's system information or network status. To check open ports on your machine, you can use command-line tools like `netstat` or `nmap`. For example:\n",
      "\n",
      "```bash\n",
      "netstat -tuln | grep ':80\\\\|:81\\\\|:82\\\\|:83\\\\|:84\\\\|:85'\n",
      "```\n",
      "\n",
      "This will show which ports in the 80-85 range are currently listening for connections.\n"
     ]
    }
   ],
   "source": [
    "messages = build.invoke({\"messages\": HumanMessage(content=\"whata the port are open from 80 to 85 in my meachine\"),\"name\":\"suresh\"})\n",
    "for m in messages['messages']:\n",
    "    m.pretty_print()"
   ]
  },
  {
   "cell_type": "code",
   "execution_count": 33,
   "id": "b4377632",
   "metadata": {},
   "outputs": [
    {
     "name": "stdout",
     "output_type": "stream",
     "text": [
      "_____greeting_______\n",
      "Hello dhanesh\n",
      "------llm2 for other member------\n",
      "================================\u001b[1m Human Message \u001b[0m=================================\n",
      "\n",
      "hello how are you\n",
      "==================================\u001b[1m Ai Message \u001b[0m==================================\n",
      "\n",
      "Hello! How can I assist you today? If you have any math problems or need help with addition or subtraction, feel free to ask!\n"
     ]
    }
   ],
   "source": [
    "messages = build.invoke({\"messages\": HumanMessage(content=\"hello how are you\"),\"name\":\"dhanesh\"})\n",
    "for m in messages['messages']:\n",
    "    m.pretty_print()"
   ]
  }
 ],
 "metadata": {
  "kernelspec": {
   "display_name": ".venv",
   "language": "python",
   "name": "python3"
  },
  "language_info": {
   "codemirror_mode": {
    "name": "ipython",
    "version": 3
   },
   "file_extension": ".py",
   "mimetype": "text/x-python",
   "name": "python",
   "nbconvert_exporter": "python",
   "pygments_lexer": "ipython3",
   "version": "3.12.4"
  }
 },
 "nbformat": 4,
 "nbformat_minor": 5
}
