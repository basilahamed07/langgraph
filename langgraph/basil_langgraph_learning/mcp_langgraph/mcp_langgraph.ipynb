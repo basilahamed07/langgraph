{
 "cells": [
  {
   "cell_type": "code",
   "execution_count": 1,
   "id": "41308935",
   "metadata": {},
   "outputs": [
    {
     "name": "stdout",
     "output_type": "stream",
     "text": [
      "Collecting langchain-mcp-adapters\n",
      "  Downloading langchain_mcp_adapters-0.0.9-py3-none-any.whl.metadata (5.6 kB)\n",
      "Requirement already satisfied: langchain-core<0.4,>=0.3.36 in d:\\learn_langgraph\\.venv\\lib\\site-packages (from langchain-mcp-adapters) (0.3.51)\n",
      "Collecting mcp<1.7,>=1.4.1 (from langchain-mcp-adapters)\n",
      "  Downloading mcp-1.6.0-py3-none-any.whl.metadata (20 kB)\n",
      "Requirement already satisfied: langsmith<0.4,>=0.1.125 in d:\\learn_langgraph\\.venv\\lib\\site-packages (from langchain-core<0.4,>=0.3.36->langchain-mcp-adapters) (0.3.31)\n",
      "Requirement already satisfied: tenacity!=8.4.0,<10.0.0,>=8.1.0 in d:\\learn_langgraph\\.venv\\lib\\site-packages (from langchain-core<0.4,>=0.3.36->langchain-mcp-adapters) (9.1.2)\n",
      "Requirement already satisfied: jsonpatch<2.0,>=1.33 in d:\\learn_langgraph\\.venv\\lib\\site-packages (from langchain-core<0.4,>=0.3.36->langchain-mcp-adapters) (1.33)\n",
      "Requirement already satisfied: PyYAML>=5.3 in d:\\learn_langgraph\\.venv\\lib\\site-packages (from langchain-core<0.4,>=0.3.36->langchain-mcp-adapters) (6.0.2)\n",
      "Requirement already satisfied: packaging<25,>=23.2 in d:\\learn_langgraph\\.venv\\lib\\site-packages (from langchain-core<0.4,>=0.3.36->langchain-mcp-adapters) (24.2)\n",
      "Requirement already satisfied: typing-extensions>=4.7 in d:\\learn_langgraph\\.venv\\lib\\site-packages (from langchain-core<0.4,>=0.3.36->langchain-mcp-adapters) (4.13.2)\n",
      "Requirement already satisfied: pydantic<3.0.0,>=2.7.4 in d:\\learn_langgraph\\.venv\\lib\\site-packages (from langchain-core<0.4,>=0.3.36->langchain-mcp-adapters) (2.11.3)\n",
      "Requirement already satisfied: anyio>=4.5 in d:\\learn_langgraph\\.venv\\lib\\site-packages (from mcp<1.7,>=1.4.1->langchain-mcp-adapters) (4.9.0)\n",
      "Collecting httpx-sse>=0.4 (from mcp<1.7,>=1.4.1->langchain-mcp-adapters)\n",
      "  Using cached httpx_sse-0.4.0-py3-none-any.whl.metadata (9.0 kB)\n",
      "Requirement already satisfied: httpx>=0.27 in d:\\learn_langgraph\\.venv\\lib\\site-packages (from mcp<1.7,>=1.4.1->langchain-mcp-adapters) (0.28.1)\n",
      "Collecting pydantic-settings>=2.5.2 (from mcp<1.7,>=1.4.1->langchain-mcp-adapters)\n",
      "  Downloading pydantic_settings-2.9.1-py3-none-any.whl.metadata (3.8 kB)\n",
      "Requirement already satisfied: sse-starlette>=1.6.1 in d:\\learn_langgraph\\.venv\\lib\\site-packages (from mcp<1.7,>=1.4.1->langchain-mcp-adapters) (2.1.3)\n",
      "Requirement already satisfied: starlette>=0.27 in d:\\learn_langgraph\\.venv\\lib\\site-packages (from mcp<1.7,>=1.4.1->langchain-mcp-adapters) (0.46.2)\n",
      "Requirement already satisfied: uvicorn>=0.23.1 in d:\\learn_langgraph\\.venv\\lib\\site-packages (from mcp<1.7,>=1.4.1->langchain-mcp-adapters) (0.34.1)\n",
      "Requirement already satisfied: idna>=2.8 in d:\\learn_langgraph\\.venv\\lib\\site-packages (from anyio>=4.5->mcp<1.7,>=1.4.1->langchain-mcp-adapters) (3.10)\n",
      "Requirement already satisfied: sniffio>=1.1 in d:\\learn_langgraph\\.venv\\lib\\site-packages (from anyio>=4.5->mcp<1.7,>=1.4.1->langchain-mcp-adapters) (1.3.1)\n",
      "Requirement already satisfied: certifi in d:\\learn_langgraph\\.venv\\lib\\site-packages (from httpx>=0.27->mcp<1.7,>=1.4.1->langchain-mcp-adapters) (2025.1.31)\n",
      "Requirement already satisfied: httpcore==1.* in d:\\learn_langgraph\\.venv\\lib\\site-packages (from httpx>=0.27->mcp<1.7,>=1.4.1->langchain-mcp-adapters) (1.0.8)\n",
      "Requirement already satisfied: h11<0.15,>=0.13 in d:\\learn_langgraph\\.venv\\lib\\site-packages (from httpcore==1.*->httpx>=0.27->mcp<1.7,>=1.4.1->langchain-mcp-adapters) (0.14.0)\n",
      "Requirement already satisfied: jsonpointer>=1.9 in d:\\learn_langgraph\\.venv\\lib\\site-packages (from jsonpatch<2.0,>=1.33->langchain-core<0.4,>=0.3.36->langchain-mcp-adapters) (3.0.0)\n",
      "Requirement already satisfied: orjson<4.0.0,>=3.9.14 in d:\\learn_langgraph\\.venv\\lib\\site-packages (from langsmith<0.4,>=0.1.125->langchain-core<0.4,>=0.3.36->langchain-mcp-adapters) (3.10.16)\n",
      "Requirement already satisfied: requests<3,>=2 in d:\\learn_langgraph\\.venv\\lib\\site-packages (from langsmith<0.4,>=0.1.125->langchain-core<0.4,>=0.3.36->langchain-mcp-adapters) (2.32.3)\n",
      "Requirement already satisfied: requests-toolbelt<2.0.0,>=1.0.0 in d:\\learn_langgraph\\.venv\\lib\\site-packages (from langsmith<0.4,>=0.1.125->langchain-core<0.4,>=0.3.36->langchain-mcp-adapters) (1.0.0)\n",
      "Requirement already satisfied: zstandard<0.24.0,>=0.23.0 in d:\\learn_langgraph\\.venv\\lib\\site-packages (from langsmith<0.4,>=0.1.125->langchain-core<0.4,>=0.3.36->langchain-mcp-adapters) (0.23.0)\n",
      "Requirement already satisfied: annotated-types>=0.6.0 in d:\\learn_langgraph\\.venv\\lib\\site-packages (from pydantic<3.0.0,>=2.7.4->langchain-core<0.4,>=0.3.36->langchain-mcp-adapters) (0.7.0)\n",
      "Requirement already satisfied: pydantic-core==2.33.1 in d:\\learn_langgraph\\.venv\\lib\\site-packages (from pydantic<3.0.0,>=2.7.4->langchain-core<0.4,>=0.3.36->langchain-mcp-adapters) (2.33.1)\n",
      "Requirement already satisfied: typing-inspection>=0.4.0 in d:\\learn_langgraph\\.venv\\lib\\site-packages (from pydantic<3.0.0,>=2.7.4->langchain-core<0.4,>=0.3.36->langchain-mcp-adapters) (0.4.0)\n",
      "Requirement already satisfied: python-dotenv>=0.21.0 in d:\\learn_langgraph\\.venv\\lib\\site-packages (from pydantic-settings>=2.5.2->mcp<1.7,>=1.4.1->langchain-mcp-adapters) (1.1.0)\n",
      "Requirement already satisfied: click>=7.0 in d:\\learn_langgraph\\.venv\\lib\\site-packages (from uvicorn>=0.23.1->mcp<1.7,>=1.4.1->langchain-mcp-adapters) (8.1.8)\n",
      "Requirement already satisfied: colorama in d:\\learn_langgraph\\.venv\\lib\\site-packages (from click>=7.0->uvicorn>=0.23.1->mcp<1.7,>=1.4.1->langchain-mcp-adapters) (0.4.6)\n",
      "Requirement already satisfied: charset-normalizer<4,>=2 in d:\\learn_langgraph\\.venv\\lib\\site-packages (from requests<3,>=2->langsmith<0.4,>=0.1.125->langchain-core<0.4,>=0.3.36->langchain-mcp-adapters) (3.4.1)\n",
      "Requirement already satisfied: urllib3<3,>=1.21.1 in d:\\learn_langgraph\\.venv\\lib\\site-packages (from requests<3,>=2->langsmith<0.4,>=0.1.125->langchain-core<0.4,>=0.3.36->langchain-mcp-adapters) (2.4.0)\n",
      "Downloading langchain_mcp_adapters-0.0.9-py3-none-any.whl (10 kB)\n",
      "Downloading mcp-1.6.0-py3-none-any.whl (76 kB)\n",
      "Using cached httpx_sse-0.4.0-py3-none-any.whl (7.8 kB)\n",
      "Downloading pydantic_settings-2.9.1-py3-none-any.whl (44 kB)\n",
      "Installing collected packages: httpx-sse, pydantic-settings, mcp, langchain-mcp-adapters\n",
      "Successfully installed httpx-sse-0.4.0 langchain-mcp-adapters-0.0.9 mcp-1.6.0 pydantic-settings-2.9.1\n",
      "Note: you may need to restart the kernel to use updated packages.\n"
     ]
    }
   ],
   "source": [
    "pip install langchain-mcp-adapters"
   ]
  },
  {
   "cell_type": "code",
   "execution_count": 1,
   "id": "58033dfd",
   "metadata": {},
   "outputs": [],
   "source": [
    "# === LLM Setup ===\n",
    "from langchain_groq import ChatGroq\n",
    "llms = ChatGroq(\n",
    "    model=\"gemma2-9b-it\",\n",
    "    temperature=0.5,\n",
    "    max_tokens=None,\n",
    "    timeout=60,\n",
    "    groq_api_key=\"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\",\n",
    ")"
   ]
  },
  {
   "cell_type": "code",
   "execution_count": 14,
   "id": "8e95dd98",
   "metadata": {},
   "outputs": [],
   "source": [
    "from langchain_mcp_adapters.client import MultiServerMCPClient\n",
    "from langgraph.prebuilt import create_react_agent\n",
    "\n",
    "async with MultiServerMCPClient(\n",
    "    {\n",
    "        \"weather\": {\n",
    "            # Ensure your start your weather server on port 8000\n",
    "            \"url\": \"http://localhost:8000/sse\",\n",
    "            \"transport\": \"sse\",\n",
    "        }\n",
    "    }\n",
    ") as client:\n",
    "    agent = create_react_agent(\n",
    "        llms,\n",
    "        client.get_tools()\n",
    "    )\n",
    "    math_response = await agent.ainvoke(\n",
    "        {\"messages\": [{\"role\": \"user\", \"content\": \"what's (3 + 5) x 12?\"}]}\n",
    "    )\n",
    "    weather_response = await agent.ainvoke(\n",
    "        {\"messages\": [{\"role\": \"user\", \"content\": \"what is the weather in nyc?\"}]}\n",
    "    )"
   ]
  },
  {
   "cell_type": "code",
   "execution_count": 15,
   "id": "1db65b40",
   "metadata": {},
   "outputs": [
    {
     "data": {
      "text/plain": [
       "[HumanMessage(content=\"what's (3 + 5) x 12?\", additional_kwargs={}, response_metadata={}, id='4a244c90-1350-4ac0-ba27-a71eaf38f90f'),\n",
       " AIMessage(content='', additional_kwargs={'tool_calls': [{'id': 'call_5hdg', 'function': {'arguments': '{\"location\":\"London\"}', 'name': 'get_weather'}, 'type': 'function'}]}, response_metadata={'token_usage': {'completion_tokens': 80, 'prompt_tokens': 951, 'total_tokens': 1031, 'completion_time': 0.145454545, 'prompt_time': 0.03553633, 'queue_time': 0.23581007999999998, 'total_time': 0.180990875}, 'model_name': 'gemma2-9b-it', 'system_fingerprint': 'fp_10c08bf97d', 'finish_reason': 'tool_calls', 'logprobs': None}, id='run-e98e53cb-d1ab-4028-b09a-d237c65de460-0', tool_calls=[{'name': 'get_weather', 'args': {'location': 'London'}, 'id': 'call_5hdg', 'type': 'tool_call'}], usage_metadata={'input_tokens': 951, 'output_tokens': 80, 'total_tokens': 1031}),\n",
       " ToolMessage(content=\"It's always sunny in New York\", name='get_weather', id='0a25aca5-f3ee-4d1b-ad2b-5cfecee76dc0', tool_call_id='call_5hdg'),\n",
       " AIMessage(content='84', additional_kwargs={}, response_metadata={'token_usage': {'completion_tokens': 4, 'prompt_tokens': 1029, 'total_tokens': 1033, 'completion_time': 0.007272727, 'prompt_time': 0.03582449, 'queue_time': 0.233809573, 'total_time': 0.043097217}, 'model_name': 'gemma2-9b-it', 'system_fingerprint': 'fp_10c08bf97d', 'finish_reason': 'stop', 'logprobs': None}, id='run-3473ddbd-c336-48d2-980f-9ac54a94a69f-0', usage_metadata={'input_tokens': 1029, 'output_tokens': 4, 'total_tokens': 1033})]"
      ]
     },
     "execution_count": 15,
     "metadata": {},
     "output_type": "execute_result"
    }
   ],
   "source": [
    "math_response[\"messages\"]"
   ]
  },
  {
   "cell_type": "code",
   "execution_count": 13,
   "id": "caa63cd3",
   "metadata": {},
   "outputs": [
    {
     "data": {
      "text/plain": [
       "{'messages': [HumanMessage(content='what is the weather in nyc?', additional_kwargs={}, response_metadata={}, id='c77004e8-0751-4b07-b9e9-54267af0a341'),\n",
       "  AIMessage(content='', additional_kwargs={'tool_calls': [{'id': 'call_16bm', 'function': {'arguments': '{\"location\":\"nyc\"}', 'name': 'get_weather'}, 'type': 'function'}]}, response_metadata={'token_usage': {'completion_tokens': 80, 'prompt_tokens': 944, 'total_tokens': 1024, 'completion_time': 0.145454545, 'prompt_time': 0.032874166, 'queue_time': 0.234408084, 'total_time': 0.178328711}, 'model_name': 'gemma2-9b-it', 'system_fingerprint': 'fp_10c08bf97d', 'finish_reason': 'tool_calls', 'logprobs': None}, id='run-a7b886b0-93fa-4285-8eab-1e7cedc4e514-0', tool_calls=[{'name': 'get_weather', 'args': {'location': 'nyc'}, 'id': 'call_16bm', 'type': 'tool_call'}], usage_metadata={'input_tokens': 944, 'output_tokens': 80, 'total_tokens': 1024}),\n",
       "  ToolMessage(content=\"It's always sunny in New York\", name='get_weather', id='5050b0e6-54ad-4a3d-800d-070c777ab64f', tool_call_id='call_16bm'),\n",
       "  AIMessage(content=\"It's always sunny in New York\", additional_kwargs={}, response_metadata={'token_usage': {'completion_tokens': 10, 'prompt_tokens': 1022, 'total_tokens': 1032, 'completion_time': 0.018181818, 'prompt_time': 0.03574404, 'queue_time': 0.23311684000000002, 'total_time': 0.053925858}, 'model_name': 'gemma2-9b-it', 'system_fingerprint': 'fp_10c08bf97d', 'finish_reason': 'stop', 'logprobs': None}, id='run-2aec6abb-7728-403e-a575-0f25f502732d-0', usage_metadata={'input_tokens': 1022, 'output_tokens': 10, 'total_tokens': 1032})]}"
      ]
     },
     "execution_count": 13,
     "metadata": {},
     "output_type": "execute_result"
    }
   ],
   "source": [
    "weather_response"
   ]
  }
 ],
 "metadata": {
  "kernelspec": {
   "display_name": ".venv",
   "language": "python",
   "name": "python3"
  },
  "language_info": {
   "codemirror_mode": {
    "name": "ipython",
    "version": 3
   },
   "file_extension": ".py",
   "mimetype": "text/x-python",
   "name": "python",
   "nbconvert_exporter": "python",
   "pygments_lexer": "ipython3",
   "version": "3.12.4"
  }
 },
 "nbformat": 4,
 "nbformat_minor": 5
}
